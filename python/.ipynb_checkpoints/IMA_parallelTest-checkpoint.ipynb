{
 "cells": [
  {
   "cell_type": "code",
   "execution_count": 1,
   "metadata": {},
   "outputs": [],
   "source": [
    "from aopy import datareader, datafilter\n",
    "import numpy as np\n",
    "import matplotlib.pyplot as plt\n",
    "from sklearn.decomposition import PCA, FactorAnalysis\n",
    "from sklearn import model_selection\n",
    "from scipy import signal, stats\n",
    "import cupy as cp\n",
    "import time"
   ]
  },
  {
   "cell_type": "code",
   "execution_count": 2,
   "metadata": {},
   "outputs": [],
   "source": [
    "# Functions\n",
    "def IMA_preprocess(data_in, time, srate, on, ftype, order, Wn, num_ch):\n",
    "    '''\n",
    "    This function preprocesses data before dimensionality reduction\n",
    "    '''\n",
    "    \n",
    "    # Crop to a specific time range\n",
    "    data = data_in[:,:(time*srate)]\n",
    "\n",
    "    # Butterworth filter\n",
    "    if on is True:\n",
    "        sos = signal.butter(order, Wn, ftype, fs = srate, output = 'sos')\n",
    " \n",
    "        data_out = signal.sosfiltfilt(sos, data, 1)    \n",
    "        \n",
    "    return data_out\n"
   ]
  },
  {
   "cell_type": "code",
   "execution_count": 3,
   "metadata": {},
   "outputs": [
    {
     "name": "stdout",
     "output_type": "stream",
     "text": [
      "Loading data file:\n"
     ]
    }
   ],
   "source": [
    "# Call Functions\n",
    "\n",
    "# Path to data\n",
    "datapath = 'E:/aolab/data/Wireless_ECOG/rec001.LM1_ECOG_3.clfp.dat'\n",
    "\n",
    "# Define processing parameters\n",
    "proc_param = {'time': 10}                # time to analyze[s]\n",
    "filt_param = {'on': True, 'order': 4, 'ftype': 'lowpass', 'Wn': 100}          # Filter parameters\n",
    "pca_param = {'ncomp_pca': 'mle'}         # Number of PCA components to compute\n",
    "fa_param = {'ncomp_fa': np.arange(1, 6 ,1).astype(int), 'nfold': 4}\n",
    "\n",
    "# Load data\n",
    "data_in, data_param, data_mask = datareader.load_ecog_clfp_data(datapath)\n",
    "\n",
    "# Preprocess data\n",
    "data_proc = IMA_preprocess(data_in, **data_param, **filt_param, **proc_param)"
   ]
  },
  {
   "cell_type": "markdown",
   "metadata": {},
   "source": [
    "Factor Analysis Matrix Form:  \n",
    "$y =$ observed variables,  \n",
    "$\\eta$ = factor scores,  \n",
    "$\\lambda$ = factor weights,  \n",
    "$\\epsilon$ = individual factor variance,  \n",
    "$n_{comp}$ = number of componants to fit  \n",
    "  \n",
    "$$\\begin{bmatrix} y_{1,1} & ... & y_{1,62}\\\\ \\vdots & \\ddots & \\vdots \\\\ y_{10000,1} & ... & y_{10000, 62} \\end{bmatrix} = \\begin{bmatrix} \\eta_{1,1} & ... & \\eta_{1, n_{comp}} \\\\ \\vdots & \\ddots & \\vdots \\\\ \\eta_{10000, n_{comp}} & ... & \\eta_{n_{comp}} \\end{bmatrix} \\begin{bmatrix}\\lambda_{1,1} & ... & \\lambda_{62,1} \\\\ \\vdots & \\ddots & \\vdots \\\\ \\lambda_{1, n_{comp}} & ... & \\lambda_{62, n_{comp}} \\end{bmatrix} + \\epsilon_{10000, 62}$$\n",
    "$$\\begin{bmatrix} 10000\\  x\\  62 \\end{bmatrix} = \\begin{bmatrix} 10000\\ x\\ n_{comp} \\end{bmatrix} \\begin{bmatrix} n_{comp}\\ x\\ 62 \\end{bmatrix} + \\begin{bmatrix} 10000\\ x\\ 62 \\end{bmatrix}$$\n",
    "$$\\begin{bmatrix}y_{nv} \\end{bmatrix} = \\begin{bmatrix}\\lambda \\end{bmatrix}[\\eta] + [\\epsilon]$$\n",
    "\n",
    "Calculate covaraiance between variables:\n",
    "$$var(Y) = \\mathbb{E}\\big[ (Y - \\mathbb{E}(Y))(Y - \\mathbb{E}(y))'\\big]$$\n",
    "  \n",
    "Assume a normal distribution of $y$ centered at 0 such that $\\mathbb{E}(Y) = 0$, and $\\mathbb{E}(\\eta\\epsilon') = 0:$  \n",
    "  \n",
    "$$var(Y) = \\mathbb{E}(YY')$$\n",
    "$$var(Y) = \\mathbb{E}\\big[(\\lambda \\eta + \\epsilon)(\\lambda \\eta + \\epsilon)'\\big]$$\n",
    "$$var(Y) = \\lambda \\mathbb{E}[ \\eta \\eta '] \\lambda' + \\mathbb{E}[\\epsilon \\epsilon ']$$\n",
    "  \n",
    "Estimate $\\lambda$ and use MLE to calculate likelihood $L$ given by the multinormal probability distribution:   \n",
    "$y_i \\sim \\mathbb{N}(0,\\Sigma)$  \n",
    "$p =$ number variables\n",
    "  \n",
    "$$L(y_i , \\Sigma) = (2\\pi)^{\\frac{p}{2}} |\\Sigma|^{-0.5}exp(-0.5y_i' \\Sigma^{-1} y_i)$$\n",
    "Calculate population likelihood by taking the product of the individual likelihoods:  \n",
    "$$L(y_1, y_2, ... y_n, \\Sigma ) = (2\\pi)^{\\frac{-nP}{2}} |\\Sigma|^{\\frac{-n}{2}} exp\\big(\\Sigma^n_{i=1} (-\\frac{1}{2}y_i' \\Sigma^{-1} y_i)\\big)$$\n",
    "Maximize over choice of $\\Sigma$ because that is the unknown. It is easier to maximize the log because it has a monotonic transoformation which guarentees tha maximum is the global max:\n",
    "$$ln(L) = -\\frac{nP}{2}ln(2\\pi) - \\frac{n}{2}ln|\\Sigma| - \\frac{1}{2} \\Sigma^n_{i=1} (y_i' \\Sigma^{-1} y_i)$$\n",
    "ML Fitting Function:\n",
    "$$L = constants - \\frac{n}{2}ln|\\Sigma| - \\frac{n}{2}tr[S \\Sigma^{-1}]$$\n",
    "Want to find $\\Sigma$ to be the best estimate of $S$. ($\\theta =$ model parameters/i.e. factor weights, $S = $ sample variance/covariance matrix ):\n",
    "$$\\Sigma(\\theta)$$\n",
    "$$\\frac{\\delta l}{\\delta \\theta} = 0$$\n",
    "Software programs minimize the fitting function $F_{ML}$, ($p =$ number of variables):  \n",
    "$$F_{ML} = ln|\\Sigma| - ln|S| + tr[S \\Sigma^{-1}] - p$$\n",
    "$\\Sigma = \\Lambda \\Lambda' + \\Psi, \\quad \\Lambda: Factor loadings, \\quad \\Psi: Unique Varaiance$  \n",
    "$S = \\hat{\\Lambda} \\hat{\\Lambda}' + \\hat{\\Psi}, \\quad \\Lambda: Estimated Factor loadings, \\quad \\Psi: Estimated Unique Varaiance$\n",
    "  \n",
    "Software process:\n",
    "1. Guess $\\theta$\n",
    "2. Calculate initial implied guess of $\\Sigma$\n",
    "3. Use that to calculate $F_{ML}$\n",
    "4. Change $\\theta$ to minimize $F_{ML}$"
   ]
  },
  {
   "cell_type": "code",
   "execution_count": 4,
   "metadata": {},
   "outputs": [],
   "source": [
    "cp.get_default_memory_pool().free_all_blocks()"
   ]
  },
  {
   "cell_type": "code",
   "execution_count": 5,
   "metadata": {},
   "outputs": [
    {
     "name": "stdout",
     "output_type": "stream",
     "text": [
      "Time consumed by numpy:  0.0069811344146728516\n",
      "\n",
      "Time consumed by cupy:  0.481522798538208\n",
      "np, cp diff =  0.0\n"
     ]
    }
   ],
   "source": [
    "# Check that numpy and cupy produce the same results, and check speed\n",
    "\n",
    "# NumPy and CPU Runtime \n",
    "s = time.time() \n",
    "cpudiag = np.sum(np.diag(np.cov(data_proc)))\n",
    "e = time.time() \n",
    "print(\"Time consumed by numpy: \", e - s) \n",
    "  \n",
    "# CuPy and GPU Runtime \n",
    "s = time.time() \n",
    "ddata = cp.asarray(data_proc)\n",
    "gpudiag = cp.sum(cp.diag(cp.cov(ddata)))\n",
    "e = time.time() \n",
    "print(\"\\nTime consumed by cupy: \",e - s) \n",
    "print(\"np, cp diff = \", cpudiag - gpudiag)"
   ]
  },
  {
   "cell_type": "code",
   "execution_count": 6,
   "metadata": {},
   "outputs": [
    {
     "name": "stdout",
     "output_type": "stream",
     "text": [
      "1614788.744434956\n"
     ]
    }
   ],
   "source": [
    "# Compute maximum log likelihood value on the GPU\n",
    "\n",
    "# Move data array to GPU\n",
    "ddata = cp.asarray(data_proc)\n",
    "dsigma = cp.cov(ddata)\n",
    "p = ddata.shape[0]\n",
    "n = ddata.shape[1]\n",
    "\n",
    "# log(det(sigma))\n",
    "lsig = cp.log(cp.prod(cp.diag(cp.linalg.cholesky(dsigma) )**2 ))\n",
    "\n",
    "# Invert LL function to maximize\n",
    "LL = (n/2)*lsig + (1/2)\n",
    "\n",
    "print(LL)"
   ]
  },
  {
   "cell_type": "code",
   "execution_count": 7,
   "metadata": {},
   "outputs": [
    {
     "name": "stdout",
     "output_type": "stream",
     "text": [
      "5.909802424504542e+90\n",
      "5.909802424504542e+90\n",
      "numpy det time = 0.0009734630584716797\n"
     ]
    }
   ],
   "source": [
    "print(cp.linalg.det(dsigma))\n",
    "\n",
    "a = time.time()\n",
    "print(cp.linalg.det(dsigma))\n",
    "#print(np.linalg.det(np.cov(data_proc)))\n",
    "b = time.time()\n",
    "print(\"numpy det time =\", b-a)"
   ]
  },
  {
   "cell_type": "code",
   "execution_count": 8,
   "metadata": {},
   "outputs": [
    {
     "name": "stdout",
     "output_type": "stream",
     "text": [
      "5.909802424494958e+90\n",
      "cupy chol time = 0.0009980201721191406\n"
     ]
    }
   ],
   "source": [
    "aa = time.time()\n",
    "print(cp.prod(cp.diag(cp.linalg.cholesky(dsigma) )**2 ) )\n",
    "bb = time.time()\n",
    "print(\"cupy chol time =\", bb - aa)"
   ]
  },
  {
   "cell_type": "code",
   "execution_count": null,
   "metadata": {},
   "outputs": [],
   "source": []
  }
 ],
 "metadata": {
  "kernelspec": {
   "display_name": "Python 3",
   "language": "python",
   "name": "python3"
  },
  "language_info": {
   "codemirror_mode": {
    "name": "ipython",
    "version": 3
   },
   "file_extension": ".py",
   "mimetype": "text/x-python",
   "name": "python",
   "nbconvert_exporter": "python",
   "pygments_lexer": "ipython3",
   "version": "3.8.5"
  }
 },
 "nbformat": 4,
 "nbformat_minor": 4
}
